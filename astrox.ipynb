{
 "cells": [
  {
   "cell_type": "markdown",
   "metadata": {},
   "source": [
    "# Setting"
   ]
  },
  {
   "cell_type": "code",
   "execution_count": 1,
   "metadata": {
    "execution": {
     "iopub.execute_input": "2021-04-29T06:12:00.579381Z",
     "iopub.status.busy": "2021-04-29T06:12:00.579074Z",
     "iopub.status.idle": "2021-04-29T06:12:01.224236Z",
     "shell.execute_reply": "2021-04-29T06:12:01.223330Z",
     "shell.execute_reply.started": "2021-04-29T06:12:00.579351Z"
    }
   },
   "outputs": [],
   "source": [
    "import tensorflow as tf\n",
    "import PIL.Image\n",
    "from tensorflow.keras.callbacks import ModelCheckpoint, EarlyStopping\n",
    "from tensorflow.keras.applications.densenet import preprocess_input, DenseNet121\n",
    "from tensorflow.keras.preprocessing.image import ImageDataGenerator, array_to_img, img_to_array, load_img\n",
    "from tensorflow.keras import layers, Sequential, Model\n",
    "from tensorflow.keras.layers import concatenate, Dense\n",
    "import json\n",
    "import glob\n",
    "import numpy as np\n",
    "import os\n",
    "import shutil\n",
    "import pandas as pd\n",
    "import matplotlib.pyplot as plt\n",
    "import cv2 as cv\n",
    "from tqdm import tqdm\n",
    "from sklearn.model_selection import train_test_split\n",
    "from sklearn.metrics import confusion_matrix, roc_auc_score, recall_score, f1_score, classification_report, balanced_accuracy_score\n",
    "%matplotlib inline\n",
    "df = pd.read_csv(\"./df_astrox.csv\")\n",
    "\n",
    "# df['class']: Label\n",
    "# df['filename']: Filename for Chest radiographs (i.e. 'patient00001.jpg')"
   ]
  },
  {
   "cell_type": "markdown",
   "metadata": {},
   "source": [
    "# Resize"
   ]
  },
  {
   "cell_type": "code",
   "execution_count": 2,
   "metadata": {
    "execution": {
     "iopub.execute_input": "2021-04-29T06:12:02.893673Z",
     "iopub.status.busy": "2021-04-29T06:12:02.893349Z",
     "iopub.status.idle": "2021-04-29T06:12:02.899907Z",
     "shell.execute_reply": "2021-04-29T06:12:02.898977Z",
     "shell.execute_reply.started": "2021-04-29T06:12:02.893640Z"
    }
   },
   "outputs": [],
   "source": [
    "def resize(img, size, padColor=0):\n",
    "    interp = cv.INTER_AREA\n",
    "    h, w = img.shape[:2]\n",
    "    sh, sw = size\n",
    "    if h > w:\n",
    "        img2 = img[0:w, 0:w]\n",
    "    else:\n",
    "        img2 = img[0:h, 0:h]\n",
    "    scaled_img = cv.resize(img2, size, interpolation=interp)\n",
    "    return scaled_img"
   ]
  },
  {
   "cell_type": "code",
   "execution_count": 3,
   "metadata": {
    "execution": {
     "iopub.execute_input": "2021-04-29T06:12:35.778777Z",
     "iopub.status.busy": "2021-04-29T06:12:35.778463Z",
     "iopub.status.idle": "2021-04-29T06:12:45.027686Z",
     "shell.execute_reply": "2021-04-29T06:12:45.026664Z",
     "shell.execute_reply.started": "2021-04-29T06:12:35.778743Z"
    }
   },
   "outputs": [
    {
     "name": "stderr",
     "output_type": "stream",
     "text": [
      "100%|██████████| 5361/5361 [00:09<00:00, 581.28it/s]\n"
     ]
    }
   ],
   "source": [
    "for img_path in tqdm(glob.glob('./images/*.jpg')):\n",
    "    img = cv.imread(img_path)\n",
    "    img = resize(img, (224,224), 0)\n",
    "    file_name = './images/resize/' + img_path.split(\"/\")[-1]\n",
    "    cv.imwrite(file_name, img)"
   ]
  },
  {
   "cell_type": "markdown",
   "metadata": {},
   "source": [
    "# Histogram equalization"
   ]
  },
  {
   "cell_type": "code",
   "execution_count": 4,
   "metadata": {
    "execution": {
     "iopub.execute_input": "2021-04-29T06:12:45.040957Z",
     "iopub.status.busy": "2021-04-29T06:12:45.040727Z",
     "iopub.status.idle": "2021-04-29T06:12:53.895830Z",
     "shell.execute_reply": "2021-04-29T06:12:53.894821Z",
     "shell.execute_reply.started": "2021-04-29T06:12:45.040930Z"
    }
   },
   "outputs": [
    {
     "name": "stderr",
     "output_type": "stream",
     "text": [
      "100%|██████████| 5361/5361 [00:08<00:00, 607.12it/s]\n"
     ]
    }
   ],
   "source": [
    "for img_path in tqdm(glob.glob('./images/resize/*.jpg')):\n",
    "    img = cv.imread(img_path)\n",
    "    img = cv.cvtColor(img, cv.COLOR_BGR2GRAY)\n",
    "    equ = cv.equalizeHist(img)\n",
    "    file_name = './images/he/' + img_path.split(\"/\")[-1]\n",
    "    cv.imwrite(file_name, equ)"
   ]
  },
  {
   "cell_type": "markdown",
   "metadata": {
    "execution": {
     "iopub.execute_input": "2021-04-29T04:18:32.196000Z",
     "iopub.status.busy": "2021-04-29T04:18:32.195674Z",
     "iopub.status.idle": "2021-04-29T04:18:32.199618Z",
     "shell.execute_reply": "2021-04-29T04:18:32.198893Z",
     "shell.execute_reply.started": "2021-04-29T04:18:32.195967Z"
    }
   },
   "source": [
    "# Train / valid / test split"
   ]
  },
  {
   "cell_type": "code",
   "execution_count": 5,
   "metadata": {
    "execution": {
     "iopub.execute_input": "2021-04-29T06:12:53.908811Z",
     "iopub.status.busy": "2021-04-29T06:12:53.908598Z",
     "iopub.status.idle": "2021-04-29T06:12:53.929019Z",
     "shell.execute_reply": "2021-04-29T06:12:53.928273Z",
     "shell.execute_reply.started": "2021-04-29T06:12:53.908785Z"
    }
   },
   "outputs": [],
   "source": [
    "df['file_path'] = './images/he/' + df['file_name'] \n",
    "\n",
    "df_trainvalid, df_test = train_test_split(df, test_size=0.2, random_state=42)\n",
    "df_train, df_valid = train_test_split(df_trainvalid, test_size=0.2, random_state=42)\n",
    "\n",
    "# TRAINING SET\n",
    "train_ce = df_train[df_train['class'] == \"ce\"].file_path.tolist()\n",
    "train_non_ce = df_train[df_train['class'] == \"non_ce\"].file_path.tolist()\n",
    "\n",
    "# VALIDATION SET\n",
    "val_files = df_valid.file_path.tolist()\n",
    "val_label = df_valid['class'].apply(lambda x: 1 if x == \"ce\" else 0).to_numpy()\n",
    "\n",
    "# TEST SET\n",
    "test_files = df_test.file_path_he.tolist()\n",
    "test_label = df_test['class'].apply(lambda x: 1 if x == \"ce\" else 0).to_numpy()"
   ]
  },
  {
   "cell_type": "markdown",
   "metadata": {},
   "source": [
    "# Data augmentation"
   ]
  },
  {
   "cell_type": "code",
   "execution_count": 6,
   "metadata": {
    "execution": {
     "iopub.execute_input": "2021-04-29T06:12:55.789348Z",
     "iopub.status.busy": "2021-04-29T06:12:55.789068Z",
     "iopub.status.idle": "2021-04-29T06:12:55.794886Z",
     "shell.execute_reply": "2021-04-29T06:12:55.794006Z",
     "shell.execute_reply.started": "2021-04-29T06:12:55.789319Z"
    }
   },
   "outputs": [],
   "source": [
    "data_aug_gen = ImageDataGenerator(rescale=1./255,\n",
    "                                  rotation_range=10,\n",
    "                                  width_shift_range=0.1,\n",
    "                                  height_shift_range=0.1,\n",
    "                                  zoom_range=[0.95, 1.05],\n",
    "                                  fill_mode='constant', cval=0)\n",
    "valset_gen = ImageDataGenerator(rescale=1./255)\n",
    "testset_gen = ImageDataGenerator(rescale=1./255)"
   ]
  },
  {
   "cell_type": "markdown",
   "metadata": {
    "execution": {
     "iopub.execute_input": "2021-04-29T04:49:19.506140Z",
     "iopub.status.busy": "2021-04-29T04:49:19.505824Z",
     "iopub.status.idle": "2021-04-29T04:49:19.509719Z",
     "shell.execute_reply": "2021-04-29T04:49:19.508964Z",
     "shell.execute_reply.started": "2021-04-29T04:49:19.506107Z"
    }
   },
   "source": [
    "### Train: Augmentation CE x 6, Train Non-CE x 3 \n",
    "### Valid, Test: no augmentation"
   ]
  },
  {
   "cell_type": "code",
   "execution_count": 7,
   "metadata": {
    "execution": {
     "iopub.execute_input": "2021-04-29T06:12:59.061181Z",
     "iopub.status.busy": "2021-04-29T06:12:59.060946Z",
     "iopub.status.idle": "2021-04-29T06:13:45.506583Z",
     "shell.execute_reply": "2021-04-29T06:13:45.505685Z",
     "shell.execute_reply.started": "2021-04-29T06:12:59.061153Z"
    }
   },
   "outputs": [],
   "source": [
    "train_ce_imgs = []\n",
    "for img_path in train_ce:\n",
    "    img = load_img(img_path)\n",
    "    x = img_to_array(img)\n",
    "    x = x.reshape((1,) + x.shape)\n",
    "    i = 0\n",
    "    for batch in data_aug_gen.flow(x, batch_size=1, seed=42):\n",
    "        train_ce_imgs.append(batch)\n",
    "        i += 1\n",
    "        if i == 6:\n",
    "            break\n",
    "train_ce_imgs = np.vstack(train_ce_imgs)\n"
   ]
  },
  {
   "cell_type": "code",
   "execution_count": 8,
   "metadata": {
    "execution": {
     "iopub.execute_input": "2021-04-29T06:13:45.566448Z",
     "iopub.status.busy": "2021-04-29T06:13:45.566220Z",
     "iopub.status.idle": "2021-04-29T06:14:42.454568Z",
     "shell.execute_reply": "2021-04-29T06:14:42.453706Z",
     "shell.execute_reply.started": "2021-04-29T06:13:45.566422Z"
    }
   },
   "outputs": [],
   "source": [
    "train_non_ce_imgs = []\n",
    "for img_path in train_non_ce:\n",
    "    img = load_img(img_path)\n",
    "    x = img_to_array(img)\n",
    "    x = x.reshape((1,) + x.shape)\n",
    "    i = 0\n",
    "    for batch in data_aug_gen.flow(x, batch_size=1, seed=42):\n",
    "        train_non_ce_imgs.append(batch)\n",
    "        i += 1\n",
    "        if i == 3:\n",
    "            break\n",
    "train_non_ce_imgs = np.vstack(train_non_ce_imgs)\n"
   ]
  },
  {
   "cell_type": "code",
   "execution_count": 9,
   "metadata": {
    "execution": {
     "iopub.execute_input": "2021-04-29T06:14:42.456568Z",
     "iopub.status.busy": "2021-04-29T06:14:42.456316Z",
     "iopub.status.idle": "2021-04-29T06:14:43.631481Z",
     "shell.execute_reply": "2021-04-29T06:14:43.630507Z",
     "shell.execute_reply.started": "2021-04-29T06:14:42.456538Z"
    }
   },
   "outputs": [],
   "source": [
    "val_imgs = []\n",
    "for img_path in val_files:\n",
    "    img = load_img(img_path)\n",
    "    x = img_to_array(img)\n",
    "    x = x.reshape((1,) + x.shape)\n",
    "    for batch in valset_gen.flow(x, batch_size=1, shuffle = False, seed=42):\n",
    "        val_imgs.append(batch)\n",
    "        break\n",
    "val_imgs = np.vstack(val_imgs)\n",
    "\n",
    "# 이건 순서대로 val_imgs 만 불러온 것 (no augmentation)"
   ]
  },
  {
   "cell_type": "code",
   "execution_count": 10,
   "metadata": {
    "execution": {
     "iopub.execute_input": "2021-04-29T06:14:43.632839Z",
     "iopub.status.busy": "2021-04-29T06:14:43.632608Z",
     "iopub.status.idle": "2021-04-29T06:14:45.109221Z",
     "shell.execute_reply": "2021-04-29T06:14:45.108389Z",
     "shell.execute_reply.started": "2021-04-29T06:14:43.632811Z"
    }
   },
   "outputs": [],
   "source": [
    "test_imgs = []\n",
    "for img_path in test_files:\n",
    "    img = load_img(img_path)\n",
    "    x = img_to_array(img)\n",
    "    x = x.reshape((1,) + x.shape)\n",
    "    for batch in testset_gen.flow(x, batch_size=1, shuffle = False, seed=42):\n",
    "        test_imgs.append(batch)\n",
    "        break\n",
    "test_imgs = np.vstack(test_imgs)\n",
    "# 이건 순서대로 test_imgs 만 불러온 것 (no augmentation)"
   ]
  },
  {
   "cell_type": "code",
   "execution_count": 11,
   "metadata": {
    "execution": {
     "iopub.execute_input": "2021-04-29T06:14:45.110643Z",
     "iopub.status.busy": "2021-04-29T06:14:45.110409Z",
     "iopub.status.idle": "2021-04-29T06:14:45.115001Z",
     "shell.execute_reply": "2021-04-29T06:14:45.114293Z",
     "shell.execute_reply.started": "2021-04-29T06:14:45.110613Z"
    }
   },
   "outputs": [],
   "source": [
    "train_ce = [train_ce_imgs, np.repeat(1, train_ce_imgs.shape[0])]\n",
    "train_non_ce = [train_non_ce_imgs, np.repeat(0, train_non_ce_imgs.shape[0])]\n",
    "# label을 붙임 (1, 0)"
   ]
  },
  {
   "cell_type": "code",
   "execution_count": 12,
   "metadata": {
    "execution": {
     "iopub.execute_input": "2021-04-29T06:14:45.116206Z",
     "iopub.status.busy": "2021-04-29T06:14:45.115991Z",
     "iopub.status.idle": "2021-04-29T06:14:48.224674Z",
     "shell.execute_reply": "2021-04-29T06:14:48.223907Z",
     "shell.execute_reply.started": "2021-04-29T06:14:45.116180Z"
    }
   },
   "outputs": [],
   "source": [
    "train_img = np.concatenate((train_ce[0], train_non_ce[0]), axis=0)\n",
    "train_label = np.concatenate((train_ce[1], train_non_ce[1]), axis=0)"
   ]
  },
  {
   "cell_type": "markdown",
   "metadata": {},
   "source": [
    "# Modeling"
   ]
  },
  {
   "cell_type": "code",
   "execution_count": 15,
   "metadata": {
    "execution": {
     "iopub.execute_input": "2021-04-29T06:14:48.239526Z",
     "iopub.status.busy": "2021-04-29T06:14:48.239313Z",
     "iopub.status.idle": "2021-04-29T06:26:00.585157Z",
     "shell.execute_reply": "2021-04-29T06:26:00.583701Z",
     "shell.execute_reply.started": "2021-04-29T06:14:48.239502Z"
    }
   },
   "outputs": [
    {
     "name": "stdout",
     "output_type": "stream",
     "text": [
      "INFO:tensorflow:Using MirroredStrategy with devices ('/job:localhost/replica:0/task:0/device:GPU:0', '/job:localhost/replica:0/task:0/device:GPU:1')\n",
      "INFO:tensorflow:Reduce to /job:localhost/replica:0/task:0/device:CPU:0 then broadcast to ('/job:localhost/replica:0/task:0/device:CPU:0',).\n",
      "INFO:tensorflow:Reduce to /job:localhost/replica:0/task:0/device:CPU:0 then broadcast to ('/job:localhost/replica:0/task:0/device:CPU:0',).\n",
      "INFO:tensorflow:Reduce to /job:localhost/replica:0/task:0/device:CPU:0 then broadcast to ('/job:localhost/replica:0/task:0/device:CPU:0',).\n",
      "INFO:tensorflow:Reduce to /job:localhost/replica:0/task:0/device:CPU:0 then broadcast to ('/job:localhost/replica:0/task:0/device:CPU:0',).\n",
      "INFO:tensorflow:Reduce to /job:localhost/replica:0/task:0/device:CPU:0 then broadcast to ('/job:localhost/replica:0/task:0/device:CPU:0',).\n",
      "INFO:tensorflow:Reduce to /job:localhost/replica:0/task:0/device:CPU:0 then broadcast to ('/job:localhost/replica:0/task:0/device:CPU:0',).\n",
      "INFO:tensorflow:Reduce to /job:localhost/replica:0/task:0/device:CPU:0 then broadcast to ('/job:localhost/replica:0/task:0/device:CPU:0',).\n",
      "INFO:tensorflow:Reduce to /job:localhost/replica:0/task:0/device:CPU:0 then broadcast to ('/job:localhost/replica:0/task:0/device:CPU:0',).\n",
      "INFO:tensorflow:Reduce to /job:localhost/replica:0/task:0/device:CPU:0 then broadcast to ('/job:localhost/replica:0/task:0/device:CPU:0',).\n",
      "INFO:tensorflow:Reduce to /job:localhost/replica:0/task:0/device:CPU:0 then broadcast to ('/job:localhost/replica:0/task:0/device:CPU:0',).\n",
      "Epoch 1/1000\n",
      "WARNING:tensorflow:From /usr/local/lib/python3.6/dist-packages/tensorflow/python/data/ops/multi_device_iterator_ops.py:601: get_next_as_optional (from tensorflow.python.data.ops.iterator_ops) is deprecated and will be removed in a future version.\n",
      "Instructions for updating:\n",
      "Use `tf.data.Iterator.get_next_as_optional()` instead.\n",
      "INFO:tensorflow:batch_all_reduce: 364 all-reduces with algorithm = nccl, num_packs = 1\n",
      "INFO:tensorflow:batch_all_reduce: 364 all-reduces with algorithm = nccl, num_packs = 1\n",
      "314/314 [==============================] - ETA: 0s - loss: 0.6937 - accuracy: 0.4984\n",
      "Epoch 00001: val_loss improved from inf to 0.64433, saving model to ./model_astrox/model_ex-001_acc-0.644325.h5\n",
      "314/314 [==============================] - 43s 136ms/step - loss: 0.6937 - accuracy: 0.4984 - val_loss: 0.6443 - val_accuracy: 0.7086\n",
      "Epoch 2/1000\n",
      "314/314 [==============================] - ETA: 0s - loss: 0.6707 - accuracy: 0.5701\n",
      "Epoch 00002: val_loss improved from 0.64433 to 0.62088, saving model to ./model_astrox/model_ex-002_acc-0.620879.h5\n",
      "314/314 [==============================] - 36s 114ms/step - loss: 0.6707 - accuracy: 0.5701 - val_loss: 0.6209 - val_accuracy: 0.7147\n",
      "Epoch 3/1000\n",
      "314/314 [==============================] - ETA: 0s - loss: 0.6553 - accuracy: 0.6027\n",
      "Epoch 00003: val_loss improved from 0.62088 to 0.60814, saving model to ./model_astrox/model_ex-003_acc-0.608136.h5\n",
      "314/314 [==============================] - 36s 113ms/step - loss: 0.6553 - accuracy: 0.6027 - val_loss: 0.6081 - val_accuracy: 0.7377\n",
      "Epoch 4/1000\n",
      "314/314 [==============================] - ETA: 0s - loss: 0.6385 - accuracy: 0.6807\n",
      "Epoch 00004: val_loss improved from 0.60814 to 0.59345, saving model to ./model_astrox/model_ex-004_acc-0.593454.h5\n",
      "314/314 [==============================] - 36s 113ms/step - loss: 0.6385 - accuracy: 0.6807 - val_loss: 0.5935 - val_accuracy: 0.7730\n",
      "Epoch 5/1000\n",
      "314/314 [==============================] - ETA: 0s - loss: 0.6163 - accuracy: 0.7319\n",
      "Epoch 00005: val_loss improved from 0.59345 to 0.57576, saving model to ./model_astrox/model_ex-005_acc-0.575755.h5\n",
      "314/314 [==============================] - 35s 113ms/step - loss: 0.6163 - accuracy: 0.7319 - val_loss: 0.5758 - val_accuracy: 0.7745\n",
      "Epoch 6/1000\n",
      "314/314 [==============================] - ETA: 0s - loss: 0.5847 - accuracy: 0.7670\n",
      "Epoch 00006: val_loss improved from 0.57576 to 0.55549, saving model to ./model_astrox/model_ex-006_acc-0.555494.h5\n",
      "314/314 [==============================] - 36s 113ms/step - loss: 0.5847 - accuracy: 0.7670 - val_loss: 0.5555 - val_accuracy: 0.7822\n",
      "Epoch 7/1000\n",
      "314/314 [==============================] - ETA: 0s - loss: 0.5135 - accuracy: 0.8008\n",
      "Epoch 00007: val_loss improved from 0.55549 to 0.52492, saving model to ./model_astrox/model_ex-007_acc-0.524920.h5\n",
      "314/314 [==============================] - 36s 114ms/step - loss: 0.5135 - accuracy: 0.8008 - val_loss: 0.5249 - val_accuracy: 0.7592\n",
      "Epoch 8/1000\n",
      "314/314 [==============================] - ETA: 0s - loss: 0.4622 - accuracy: 0.8004\n",
      "Epoch 00008: val_loss improved from 0.52492 to 0.50446, saving model to ./model_astrox/model_ex-008_acc-0.504464.h5\n",
      "314/314 [==============================] - 36s 114ms/step - loss: 0.4622 - accuracy: 0.8004 - val_loss: 0.5045 - val_accuracy: 0.7715\n",
      "Epoch 9/1000\n",
      "314/314 [==============================] - ETA: 0s - loss: 0.4301 - accuracy: 0.8121\n",
      "Epoch 00009: val_loss improved from 0.50446 to 0.49079, saving model to ./model_astrox/model_ex-009_acc-0.490786.h5\n",
      "314/314 [==============================] - 36s 114ms/step - loss: 0.4301 - accuracy: 0.8121 - val_loss: 0.4908 - val_accuracy: 0.7791\n",
      "Epoch 10/1000\n",
      "314/314 [==============================] - ETA: 0s - loss: 0.4120 - accuracy: 0.8147\n",
      "Epoch 00010: val_loss improved from 0.49079 to 0.47820, saving model to ./model_astrox/model_ex-010_acc-0.478204.h5\n",
      "314/314 [==============================] - 36s 114ms/step - loss: 0.4120 - accuracy: 0.8147 - val_loss: 0.4782 - val_accuracy: 0.7883\n",
      "Epoch 11/1000\n",
      "314/314 [==============================] - ETA: 0s - loss: 0.3979 - accuracy: 0.8263\n",
      "Epoch 00011: val_loss improved from 0.47820 to 0.46750, saving model to ./model_astrox/model_ex-011_acc-0.467503.h5\n",
      "314/314 [==============================] - 36s 113ms/step - loss: 0.3979 - accuracy: 0.8263 - val_loss: 0.4675 - val_accuracy: 0.7929\n",
      "Epoch 12/1000\n",
      "314/314 [==============================] - ETA: 0s - loss: 0.3864 - accuracy: 0.8349\n",
      "Epoch 00012: val_loss improved from 0.46750 to 0.45670, saving model to ./model_astrox/model_ex-012_acc-0.456697.h5\n",
      "314/314 [==============================] - 36s 114ms/step - loss: 0.3864 - accuracy: 0.8349 - val_loss: 0.4567 - val_accuracy: 0.8037\n",
      "Epoch 13/1000\n",
      "314/314 [==============================] - ETA: 0s - loss: 0.3729 - accuracy: 0.8408\n",
      "Epoch 00013: val_loss improved from 0.45670 to 0.44772, saving model to ./model_astrox/model_ex-013_acc-0.447717.h5\n",
      "314/314 [==============================] - 36s 114ms/step - loss: 0.3729 - accuracy: 0.8408 - val_loss: 0.4477 - val_accuracy: 0.7991\n",
      "Epoch 14/1000\n",
      "314/314 [==============================] - ETA: 0s - loss: 0.3628 - accuracy: 0.8474\n",
      "Epoch 00014: val_loss improved from 0.44772 to 0.44194, saving model to ./model_astrox/model_ex-014_acc-0.441940.h5\n",
      "314/314 [==============================] - 35s 113ms/step - loss: 0.3628 - accuracy: 0.8474 - val_loss: 0.4419 - val_accuracy: 0.7991\n",
      "Epoch 15/1000\n",
      "314/314 [==============================] - ETA: 0s - loss: 0.3631 - accuracy: 0.8458\n",
      "Epoch 00015: val_loss improved from 0.44194 to 0.43647, saving model to ./model_astrox/model_ex-015_acc-0.436470.h5\n",
      "314/314 [==============================] - 35s 113ms/step - loss: 0.3631 - accuracy: 0.8458 - val_loss: 0.4365 - val_accuracy: 0.8113\n",
      "Epoch 16/1000\n",
      "196/314 [=================>............] - ETA: 12s - loss: 0.3581 - accuracy: 0.8466"
     ]
    },
    {
     "ename": "KeyboardInterrupt",
     "evalue": "",
     "output_type": "error",
     "traceback": [
      "\u001b[0;31m---------------------------------------------------------------------------\u001b[0m",
      "\u001b[0;31mKeyboardInterrupt\u001b[0m                         Traceback (most recent call last)",
      "\u001b[0;32m<ipython-input-15-75eb9ede6a81>\u001b[0m in \u001b[0;36m<module>\u001b[0;34m\u001b[0m\n\u001b[1;32m     43\u001b[0m                            \u001b[0mbatch_size\u001b[0m\u001b[0;34m=\u001b[0m\u001b[0mbatch_size\u001b[0m\u001b[0;34m,\u001b[0m\u001b[0;34m\u001b[0m\u001b[0;34m\u001b[0m\u001b[0m\n\u001b[1;32m     44\u001b[0m                            \u001b[0msteps_per_epoch\u001b[0m\u001b[0;34m=\u001b[0m\u001b[0mlen\u001b[0m\u001b[0;34m(\u001b[0m\u001b[0mtrain_img\u001b[0m\u001b[0;34m)\u001b[0m\u001b[0;34m//\u001b[0m\u001b[0mbatch_size\u001b[0m\u001b[0;34m,\u001b[0m\u001b[0;34m\u001b[0m\u001b[0;34m\u001b[0m\u001b[0m\n\u001b[0;32m---> 45\u001b[0;31m                            callbacks=[checkpoint, early_stopping])\n\u001b[0m",
      "\u001b[0;32m/usr/local/lib/python3.6/dist-packages/tensorflow/python/keras/engine/training.py\u001b[0m in \u001b[0;36m_method_wrapper\u001b[0;34m(self, *args, **kwargs)\u001b[0m\n\u001b[1;32m    106\u001b[0m   \u001b[0;32mdef\u001b[0m \u001b[0m_method_wrapper\u001b[0m\u001b[0;34m(\u001b[0m\u001b[0mself\u001b[0m\u001b[0;34m,\u001b[0m \u001b[0;34m*\u001b[0m\u001b[0margs\u001b[0m\u001b[0;34m,\u001b[0m \u001b[0;34m**\u001b[0m\u001b[0mkwargs\u001b[0m\u001b[0;34m)\u001b[0m\u001b[0;34m:\u001b[0m\u001b[0;34m\u001b[0m\u001b[0;34m\u001b[0m\u001b[0m\n\u001b[1;32m    107\u001b[0m     \u001b[0;32mif\u001b[0m \u001b[0;32mnot\u001b[0m \u001b[0mself\u001b[0m\u001b[0;34m.\u001b[0m\u001b[0m_in_multi_worker_mode\u001b[0m\u001b[0;34m(\u001b[0m\u001b[0;34m)\u001b[0m\u001b[0;34m:\u001b[0m  \u001b[0;31m# pylint: disable=protected-access\u001b[0m\u001b[0;34m\u001b[0m\u001b[0;34m\u001b[0m\u001b[0m\n\u001b[0;32m--> 108\u001b[0;31m       \u001b[0;32mreturn\u001b[0m \u001b[0mmethod\u001b[0m\u001b[0;34m(\u001b[0m\u001b[0mself\u001b[0m\u001b[0;34m,\u001b[0m \u001b[0;34m*\u001b[0m\u001b[0margs\u001b[0m\u001b[0;34m,\u001b[0m \u001b[0;34m**\u001b[0m\u001b[0mkwargs\u001b[0m\u001b[0;34m)\u001b[0m\u001b[0;34m\u001b[0m\u001b[0;34m\u001b[0m\u001b[0m\n\u001b[0m\u001b[1;32m    109\u001b[0m \u001b[0;34m\u001b[0m\u001b[0m\n\u001b[1;32m    110\u001b[0m     \u001b[0;31m# Running inside `run_distribute_coordinator` already.\u001b[0m\u001b[0;34m\u001b[0m\u001b[0;34m\u001b[0m\u001b[0;34m\u001b[0m\u001b[0m\n",
      "\u001b[0;32m/usr/local/lib/python3.6/dist-packages/tensorflow/python/keras/engine/training.py\u001b[0m in \u001b[0;36mfit\u001b[0;34m(self, x, y, batch_size, epochs, verbose, callbacks, validation_split, validation_data, shuffle, class_weight, sample_weight, initial_epoch, steps_per_epoch, validation_steps, validation_batch_size, validation_freq, max_queue_size, workers, use_multiprocessing)\u001b[0m\n\u001b[1;32m   1096\u001b[0m                 batch_size=batch_size):\n\u001b[1;32m   1097\u001b[0m               \u001b[0mcallbacks\u001b[0m\u001b[0;34m.\u001b[0m\u001b[0mon_train_batch_begin\u001b[0m\u001b[0;34m(\u001b[0m\u001b[0mstep\u001b[0m\u001b[0;34m)\u001b[0m\u001b[0;34m\u001b[0m\u001b[0;34m\u001b[0m\u001b[0m\n\u001b[0;32m-> 1098\u001b[0;31m               \u001b[0mtmp_logs\u001b[0m \u001b[0;34m=\u001b[0m \u001b[0mtrain_function\u001b[0m\u001b[0;34m(\u001b[0m\u001b[0miterator\u001b[0m\u001b[0;34m)\u001b[0m\u001b[0;34m\u001b[0m\u001b[0;34m\u001b[0m\u001b[0m\n\u001b[0m\u001b[1;32m   1099\u001b[0m               \u001b[0;32mif\u001b[0m \u001b[0mdata_handler\u001b[0m\u001b[0;34m.\u001b[0m\u001b[0mshould_sync\u001b[0m\u001b[0;34m:\u001b[0m\u001b[0;34m\u001b[0m\u001b[0;34m\u001b[0m\u001b[0m\n\u001b[1;32m   1100\u001b[0m                 \u001b[0mcontext\u001b[0m\u001b[0;34m.\u001b[0m\u001b[0masync_wait\u001b[0m\u001b[0;34m(\u001b[0m\u001b[0;34m)\u001b[0m\u001b[0;34m\u001b[0m\u001b[0;34m\u001b[0m\u001b[0m\n",
      "\u001b[0;32m/usr/local/lib/python3.6/dist-packages/tensorflow/python/eager/def_function.py\u001b[0m in \u001b[0;36m__call__\u001b[0;34m(self, *args, **kwds)\u001b[0m\n\u001b[1;32m    778\u001b[0m       \u001b[0;32melse\u001b[0m\u001b[0;34m:\u001b[0m\u001b[0;34m\u001b[0m\u001b[0;34m\u001b[0m\u001b[0m\n\u001b[1;32m    779\u001b[0m         \u001b[0mcompiler\u001b[0m \u001b[0;34m=\u001b[0m \u001b[0;34m\"nonXla\"\u001b[0m\u001b[0;34m\u001b[0m\u001b[0;34m\u001b[0m\u001b[0m\n\u001b[0;32m--> 780\u001b[0;31m         \u001b[0mresult\u001b[0m \u001b[0;34m=\u001b[0m \u001b[0mself\u001b[0m\u001b[0;34m.\u001b[0m\u001b[0m_call\u001b[0m\u001b[0;34m(\u001b[0m\u001b[0;34m*\u001b[0m\u001b[0margs\u001b[0m\u001b[0;34m,\u001b[0m \u001b[0;34m**\u001b[0m\u001b[0mkwds\u001b[0m\u001b[0;34m)\u001b[0m\u001b[0;34m\u001b[0m\u001b[0;34m\u001b[0m\u001b[0m\n\u001b[0m\u001b[1;32m    781\u001b[0m \u001b[0;34m\u001b[0m\u001b[0m\n\u001b[1;32m    782\u001b[0m       \u001b[0mnew_tracing_count\u001b[0m \u001b[0;34m=\u001b[0m \u001b[0mself\u001b[0m\u001b[0;34m.\u001b[0m\u001b[0m_get_tracing_count\u001b[0m\u001b[0;34m(\u001b[0m\u001b[0;34m)\u001b[0m\u001b[0;34m\u001b[0m\u001b[0;34m\u001b[0m\u001b[0m\n",
      "\u001b[0;32m/usr/local/lib/python3.6/dist-packages/tensorflow/python/eager/def_function.py\u001b[0m in \u001b[0;36m_call\u001b[0;34m(self, *args, **kwds)\u001b[0m\n\u001b[1;32m    805\u001b[0m       \u001b[0;31m# In this case we have created variables on the first call, so we run the\u001b[0m\u001b[0;34m\u001b[0m\u001b[0;34m\u001b[0m\u001b[0;34m\u001b[0m\u001b[0m\n\u001b[1;32m    806\u001b[0m       \u001b[0;31m# defunned version which is guaranteed to never create variables.\u001b[0m\u001b[0;34m\u001b[0m\u001b[0;34m\u001b[0m\u001b[0;34m\u001b[0m\u001b[0m\n\u001b[0;32m--> 807\u001b[0;31m       \u001b[0;32mreturn\u001b[0m \u001b[0mself\u001b[0m\u001b[0;34m.\u001b[0m\u001b[0m_stateless_fn\u001b[0m\u001b[0;34m(\u001b[0m\u001b[0;34m*\u001b[0m\u001b[0margs\u001b[0m\u001b[0;34m,\u001b[0m \u001b[0;34m**\u001b[0m\u001b[0mkwds\u001b[0m\u001b[0;34m)\u001b[0m  \u001b[0;31m# pylint: disable=not-callable\u001b[0m\u001b[0;34m\u001b[0m\u001b[0;34m\u001b[0m\u001b[0m\n\u001b[0m\u001b[1;32m    808\u001b[0m     \u001b[0;32melif\u001b[0m \u001b[0mself\u001b[0m\u001b[0;34m.\u001b[0m\u001b[0m_stateful_fn\u001b[0m \u001b[0;32mis\u001b[0m \u001b[0;32mnot\u001b[0m \u001b[0;32mNone\u001b[0m\u001b[0;34m:\u001b[0m\u001b[0;34m\u001b[0m\u001b[0;34m\u001b[0m\u001b[0m\n\u001b[1;32m    809\u001b[0m       \u001b[0;31m# Release the lock early so that multiple threads can perform the call\u001b[0m\u001b[0;34m\u001b[0m\u001b[0;34m\u001b[0m\u001b[0;34m\u001b[0m\u001b[0m\n",
      "\u001b[0;32m/usr/local/lib/python3.6/dist-packages/tensorflow/python/eager/function.py\u001b[0m in \u001b[0;36m__call__\u001b[0;34m(self, *args, **kwargs)\u001b[0m\n\u001b[1;32m   2827\u001b[0m     \u001b[0;32mwith\u001b[0m \u001b[0mself\u001b[0m\u001b[0;34m.\u001b[0m\u001b[0m_lock\u001b[0m\u001b[0;34m:\u001b[0m\u001b[0;34m\u001b[0m\u001b[0;34m\u001b[0m\u001b[0m\n\u001b[1;32m   2828\u001b[0m       \u001b[0mgraph_function\u001b[0m\u001b[0;34m,\u001b[0m \u001b[0margs\u001b[0m\u001b[0;34m,\u001b[0m \u001b[0mkwargs\u001b[0m \u001b[0;34m=\u001b[0m \u001b[0mself\u001b[0m\u001b[0;34m.\u001b[0m\u001b[0m_maybe_define_function\u001b[0m\u001b[0;34m(\u001b[0m\u001b[0margs\u001b[0m\u001b[0;34m,\u001b[0m \u001b[0mkwargs\u001b[0m\u001b[0;34m)\u001b[0m\u001b[0;34m\u001b[0m\u001b[0;34m\u001b[0m\u001b[0m\n\u001b[0;32m-> 2829\u001b[0;31m     \u001b[0;32mreturn\u001b[0m \u001b[0mgraph_function\u001b[0m\u001b[0;34m.\u001b[0m\u001b[0m_filtered_call\u001b[0m\u001b[0;34m(\u001b[0m\u001b[0margs\u001b[0m\u001b[0;34m,\u001b[0m \u001b[0mkwargs\u001b[0m\u001b[0;34m)\u001b[0m  \u001b[0;31m# pylint: disable=protected-access\u001b[0m\u001b[0;34m\u001b[0m\u001b[0;34m\u001b[0m\u001b[0m\n\u001b[0m\u001b[1;32m   2830\u001b[0m \u001b[0;34m\u001b[0m\u001b[0m\n\u001b[1;32m   2831\u001b[0m   \u001b[0;34m@\u001b[0m\u001b[0mproperty\u001b[0m\u001b[0;34m\u001b[0m\u001b[0;34m\u001b[0m\u001b[0m\n",
      "\u001b[0;32m/usr/local/lib/python3.6/dist-packages/tensorflow/python/eager/function.py\u001b[0m in \u001b[0;36m_filtered_call\u001b[0;34m(self, args, kwargs, cancellation_manager)\u001b[0m\n\u001b[1;32m   1846\u001b[0m                            resource_variable_ops.BaseResourceVariable))],\n\u001b[1;32m   1847\u001b[0m         \u001b[0mcaptured_inputs\u001b[0m\u001b[0;34m=\u001b[0m\u001b[0mself\u001b[0m\u001b[0;34m.\u001b[0m\u001b[0mcaptured_inputs\u001b[0m\u001b[0;34m,\u001b[0m\u001b[0;34m\u001b[0m\u001b[0;34m\u001b[0m\u001b[0m\n\u001b[0;32m-> 1848\u001b[0;31m         cancellation_manager=cancellation_manager)\n\u001b[0m\u001b[1;32m   1849\u001b[0m \u001b[0;34m\u001b[0m\u001b[0m\n\u001b[1;32m   1850\u001b[0m   \u001b[0;32mdef\u001b[0m \u001b[0m_call_flat\u001b[0m\u001b[0;34m(\u001b[0m\u001b[0mself\u001b[0m\u001b[0;34m,\u001b[0m \u001b[0margs\u001b[0m\u001b[0;34m,\u001b[0m \u001b[0mcaptured_inputs\u001b[0m\u001b[0;34m,\u001b[0m \u001b[0mcancellation_manager\u001b[0m\u001b[0;34m=\u001b[0m\u001b[0;32mNone\u001b[0m\u001b[0;34m)\u001b[0m\u001b[0;34m:\u001b[0m\u001b[0;34m\u001b[0m\u001b[0;34m\u001b[0m\u001b[0m\n",
      "\u001b[0;32m/usr/local/lib/python3.6/dist-packages/tensorflow/python/eager/function.py\u001b[0m in \u001b[0;36m_call_flat\u001b[0;34m(self, args, captured_inputs, cancellation_manager)\u001b[0m\n\u001b[1;32m   1922\u001b[0m       \u001b[0;31m# No tape is watching; skip to running the function.\u001b[0m\u001b[0;34m\u001b[0m\u001b[0;34m\u001b[0m\u001b[0;34m\u001b[0m\u001b[0m\n\u001b[1;32m   1923\u001b[0m       return self._build_call_outputs(self._inference_function.call(\n\u001b[0;32m-> 1924\u001b[0;31m           ctx, args, cancellation_manager=cancellation_manager))\n\u001b[0m\u001b[1;32m   1925\u001b[0m     forward_backward = self._select_forward_and_backward_functions(\n\u001b[1;32m   1926\u001b[0m         \u001b[0margs\u001b[0m\u001b[0;34m,\u001b[0m\u001b[0;34m\u001b[0m\u001b[0;34m\u001b[0m\u001b[0m\n",
      "\u001b[0;32m/usr/local/lib/python3.6/dist-packages/tensorflow/python/eager/function.py\u001b[0m in \u001b[0;36mcall\u001b[0;34m(self, ctx, args, cancellation_manager)\u001b[0m\n\u001b[1;32m    548\u001b[0m               \u001b[0minputs\u001b[0m\u001b[0;34m=\u001b[0m\u001b[0margs\u001b[0m\u001b[0;34m,\u001b[0m\u001b[0;34m\u001b[0m\u001b[0;34m\u001b[0m\u001b[0m\n\u001b[1;32m    549\u001b[0m               \u001b[0mattrs\u001b[0m\u001b[0;34m=\u001b[0m\u001b[0mattrs\u001b[0m\u001b[0;34m,\u001b[0m\u001b[0;34m\u001b[0m\u001b[0;34m\u001b[0m\u001b[0m\n\u001b[0;32m--> 550\u001b[0;31m               ctx=ctx)\n\u001b[0m\u001b[1;32m    551\u001b[0m         \u001b[0;32melse\u001b[0m\u001b[0;34m:\u001b[0m\u001b[0;34m\u001b[0m\u001b[0;34m\u001b[0m\u001b[0m\n\u001b[1;32m    552\u001b[0m           outputs = execute.execute_with_cancellation(\n",
      "\u001b[0;32m/usr/local/lib/python3.6/dist-packages/tensorflow/python/eager/execute.py\u001b[0m in \u001b[0;36mquick_execute\u001b[0;34m(op_name, num_outputs, inputs, attrs, ctx, name)\u001b[0m\n\u001b[1;32m     58\u001b[0m     \u001b[0mctx\u001b[0m\u001b[0;34m.\u001b[0m\u001b[0mensure_initialized\u001b[0m\u001b[0;34m(\u001b[0m\u001b[0;34m)\u001b[0m\u001b[0;34m\u001b[0m\u001b[0;34m\u001b[0m\u001b[0m\n\u001b[1;32m     59\u001b[0m     tensors = pywrap_tfe.TFE_Py_Execute(ctx._handle, device_name, op_name,\n\u001b[0;32m---> 60\u001b[0;31m                                         inputs, attrs, num_outputs)\n\u001b[0m\u001b[1;32m     61\u001b[0m   \u001b[0;32mexcept\u001b[0m \u001b[0mcore\u001b[0m\u001b[0;34m.\u001b[0m\u001b[0m_NotOkStatusException\u001b[0m \u001b[0;32mas\u001b[0m \u001b[0me\u001b[0m\u001b[0;34m:\u001b[0m\u001b[0;34m\u001b[0m\u001b[0;34m\u001b[0m\u001b[0m\n\u001b[1;32m     62\u001b[0m     \u001b[0;32mif\u001b[0m \u001b[0mname\u001b[0m \u001b[0;32mis\u001b[0m \u001b[0;32mnot\u001b[0m \u001b[0;32mNone\u001b[0m\u001b[0;34m:\u001b[0m\u001b[0;34m\u001b[0m\u001b[0;34m\u001b[0m\u001b[0m\n",
      "\u001b[0;31mKeyboardInterrupt\u001b[0m: "
     ]
    }
   ],
   "source": [
    "# Hyperparameters\n",
    "epochs = 1000\n",
    "batch_size = 32\n",
    "opt = tf.keras.optimizers.Adam(learning_rate=1e-5)\n",
    "densenet = DenseNet121(\n",
    "    weights='./brucechou1983_CheXNet_Keras_0.3.0_weights.h5',\n",
    "    include_top=True,\n",
    "    input_shape=(224, 224, 3),\n",
    "    classes=14\n",
    ")\n",
    "out = layers.Dense(1, activation='sigmoid')(densenet.layers[-2].output)\n",
    "model = tf.keras.Model(inputs=densenet.input, outputs=out)\n",
    "\n",
    "\n",
    "trained_model_dir = './model_astrox/'\n",
    "model_name = 'model_ex-{epoch:03d}_acc-{val_loss:03f}.h5'\n",
    "model_path = os.path.join(trained_model_dir, model_name)\n",
    "\n",
    "\n",
    "# Callback\n",
    "checkpoint = tf.keras.callbacks.ModelCheckpoint(filepath=model_path,\n",
    "                                                monitor='val_loss',\n",
    "                                                verbose=1,\n",
    "                                                save_weights_only=False,\n",
    "                                                save_best_only=True,\n",
    "                                                mode='auto',\n",
    "                                                save_freq='epoch')\n",
    "early_stopping = EarlyStopping(patience=50)\n",
    "\n",
    "\n",
    "model.compile(\n",
    "    loss='binary_crossentropy',\n",
    "    optimizer=opt,\n",
    "    metrics=['accuracy'])\n",
    "\n",
    "\n",
    "history_model = model.fit(train_img, train_label,\n",
    "                          validation_data=(val_imgs, val_label),\n",
    "                          epochs=epochs,\n",
    "                          shuffle=True,\n",
    "                          batch_size=batch_size,\n",
    "                          steps_per_epoch=len(train_img)//batch_size,\n",
    "                          callbacks=[checkpoint, early_stopping])\n"
   ]
  },
  {
   "cell_type": "markdown",
   "metadata": {},
   "source": [
    "# Test"
   ]
  },
  {
   "cell_type": "code",
   "execution_count": 16,
   "metadata": {
    "execution": {
     "iopub.execute_input": "2021-04-29T06:26:03.445996Z",
     "iopub.status.busy": "2021-04-29T06:26:03.445665Z",
     "iopub.status.idle": "2021-04-29T06:26:08.695426Z",
     "shell.execute_reply": "2021-04-29T06:26:08.694610Z",
     "shell.execute_reply.started": "2021-04-29T06:26:03.445956Z"
    }
   },
   "outputs": [
    {
     "name": "stdout",
     "output_type": "stream",
     "text": [
      "Loaded\n"
     ]
    }
   ],
   "source": [
    "\n",
    "tf.keras.backend.clear_session()\n",
    "\n",
    "trained_model_dir = './model_astrox/'\n",
    "\n",
    "model = tf.keras.models.load_model(os.path.join(\n",
    "    trained_model_dir, os.listdir(trained_model_dir)[-1]))\n",
    "\n",
    "print(\"Loaded\")"
   ]
  },
  {
   "cell_type": "code",
   "execution_count": 17,
   "metadata": {
    "execution": {
     "iopub.execute_input": "2021-04-29T06:26:10.284501Z",
     "iopub.status.busy": "2021-04-29T06:26:10.284229Z",
     "iopub.status.idle": "2021-04-29T06:26:13.056078Z",
     "shell.execute_reply": "2021-04-29T06:26:13.055202Z",
     "shell.execute_reply.started": "2021-04-29T06:26:10.284471Z"
    }
   },
   "outputs": [],
   "source": [
    "y_true = test_label\n",
    "predictions = model.predict(test_imgs)\n",
    "y_pred = (predictions > 0.5).astype(np.int)\n",
    "y_proba = predictions"
   ]
  },
  {
   "cell_type": "code",
   "execution_count": 18,
   "metadata": {
    "execution": {
     "iopub.execute_input": "2021-04-29T06:26:14.312018Z",
     "iopub.status.busy": "2021-04-29T06:26:14.311773Z",
     "iopub.status.idle": "2021-04-29T06:26:14.334976Z",
     "shell.execute_reply": "2021-04-29T06:26:14.334226Z",
     "shell.execute_reply.started": "2021-04-29T06:26:14.311989Z"
    }
   },
   "outputs": [
    {
     "name": "stdout",
     "output_type": "stream",
     "text": [
      "[[119 133]\n",
      " [ 47 517]]\n",
      "Acc 0.7794117647058824\n",
      "Sensitivity 0.4722222222222222\n",
      "Specificity 0.9166666666666666\n",
      "AUROC 0.7720224023415513\n",
      "Recall 0.4722222222222222\n",
      "F1 0.569377990430622\n",
      "Weighted accuracy 0.6944444444444444\n",
      "              precision    recall  f1-score   support\n",
      "\n",
      "           0       0.80      0.92      0.85       564\n",
      "           1       0.72      0.47      0.57       252\n",
      "\n",
      "    accuracy                           0.78       816\n",
      "   macro avg       0.76      0.69      0.71       816\n",
      "weighted avg       0.77      0.78      0.76       816\n",
      "\n"
     ]
    }
   ],
   "source": [
    "conf_mat = confusion_matrix(y_true, y_pred, labels=[1, 0])\n",
    "TP = conf_mat[0][0]\n",
    "TN = conf_mat[1][1]\n",
    "FN = conf_mat[0][1]\n",
    "FP = conf_mat[1][0]\n",
    "print(conf_mat)\n",
    "print(\"Acc\", (TP+TN)/(TP+TN+FP+FN))\n",
    "print(\"Sensitivity\", TP/(TP+FN))\n",
    "print(\"Specificity\", TN/(TN+FP))\n",
    "print(\"AUROC\", roc_auc_score(y_true, y_proba))\n",
    "print(\"Recall\", recall_score(y_true, y_pred))\n",
    "print(\"F1\",  f1_score(y_true, y_pred))\n",
    "print(\"Weighted accuracy\", balanced_accuracy_score(y_true, y_pred))\n",
    "\n",
    "print(classification_report(y_true, y_pred))"
   ]
  },
  {
   "cell_type": "code",
   "execution_count": 19,
   "metadata": {
    "execution": {
     "iopub.execute_input": "2021-04-29T06:26:20.637744Z",
     "iopub.status.busy": "2021-04-29T06:26:20.637413Z",
     "iopub.status.idle": "2021-04-29T06:26:20.817381Z",
     "shell.execute_reply": "2021-04-29T06:26:20.816675Z",
     "shell.execute_reply.started": "2021-04-29T06:26:20.637710Z"
    }
   },
   "outputs": [
    {
     "data": {
      "image/png": "[encoded data removed]",
      "text/plain": [
       "<Figure size 720x720 with 1 Axes>"
      ]
     },
     "metadata": {
      "needs_background": "light"
     },
     "output_type": "display_data"
    },
    {
     "data": {
      "text/plain": [
       "0.7720224023415513"
      ]
     },
     "execution_count": 19,
     "metadata": {},
     "output_type": "execute_result"
    }
   ],
   "source": [
    "from sklearn.metrics import roc_curve, roc_auc_score\n",
    "fpr, tpr, thresholds = roc_curve(y_true, y_proba)\n",
    "\n",
    "\n",
    "def plot_roc(fpr, tpr):\n",
    "    plt.plot(fpr, tpr)\n",
    "    plt.axis([0, 1, 0, 1])\n",
    "    plt.xlabel('False positive rate')\n",
    "    plt.ylabel('True positive rate')\n",
    "    plt.title('Receiver operating characteristic')\n",
    "    plt.plot([0, 1], [0, 1], 'k--', label=\"random guess\")\n",
    "    plt.show()\n",
    "\n",
    "\n",
    "plt.figure(figsize=(10,10))\n",
    "plot_roc(fpr, tpr)\n",
    "roc_auc_score(y_true, y_proba)"
   ]
  },
  {
   "cell_type": "markdown",
   "metadata": {},
   "source": [
    "# Grad-cam"
   ]
  },
  {
   "cell_type": "code",
   "execution_count": 20,
   "metadata": {
    "execution": {
     "iopub.execute_input": "2021-04-29T06:26:52.842343Z",
     "iopub.status.busy": "2021-04-29T06:26:52.842022Z",
     "iopub.status.idle": "2021-04-29T06:26:52.854074Z",
     "shell.execute_reply": "2021-04-29T06:26:52.853292Z",
     "shell.execute_reply.started": "2021-04-29T06:26:52.842311Z"
    }
   },
   "outputs": [],
   "source": [
    "import cv2\n",
    "\n",
    "def get_gradcam(model, IMAGE_PATH, LAYER_NAME):\n",
    "    image_array = IMAGE_PATH\n",
    "    img = image_array.astype(np.float32)\n",
    "\n",
    "    # Create a graph that outputs target convolution and output\n",
    "    grad_model = tf.keras.models.Model(\n",
    "        [model.inputs], [model.get_layer(LAYER_NAME).output, model.output])\n",
    "\n",
    "    # Get the score for target class\n",
    "    with tf.GradientTape() as tape:\n",
    "        conv_outputs, predictions = grad_model(np.array([img]))\n",
    "        loss = predictions\n",
    "\n",
    "    # Extract filters and gradients\n",
    "    output = conv_outputs[0]\n",
    "    grads = tape.gradient(loss, conv_outputs)[0]\n",
    "\n",
    "    # Average gradients spatially\n",
    "    weights = tf.reduce_mean(grads, axis=(0, 1))\n",
    "\n",
    "    # Build a ponderated map of filters according to gradients importance\n",
    "    cam = np.ones(output.shape[0:2], dtype=np.float32)\n",
    "\n",
    "    for index, w in enumerate(weights):\n",
    "        cam += w * output[:, :, index]\n",
    "\n",
    "    # Heatmap visualization\n",
    "    cam = cv2.resize(cam.numpy(), (224, 224))\n",
    "    cam = np.maximum(cam, 0)\n",
    "\n",
    "    heatmap = ((cam - cam.min()) / (cam.max() - cam.min()))\n",
    "\n",
    "    cam = cv2.applyColorMap(np.uint8(255*heatmap), cv2.COLORMAP_JET)\n",
    "\n",
    "    alphanum = 0.6\n",
    "    output_image = cv2.addWeighted(cv2.cvtColor(\n",
    "        (image_array*255).astype('uint8'), cv2.COLOR_BGR2RGB), alphanum, cam, 1-alphanum, 0)\n",
    "    output_image = cv2.cvtColor(\n",
    "        output_image.astype('uint8'), cv2.COLOR_BGR2RGB)\n",
    "\n",
    "    return output_image"
   ]
  },
  {
   "cell_type": "code",
   "execution_count": 22,
   "metadata": {
    "execution": {
     "iopub.execute_input": "2021-04-29T06:27:41.789304Z",
     "iopub.status.busy": "2021-04-29T06:27:41.788986Z",
     "iopub.status.idle": "2021-04-29T06:27:41.794498Z",
     "shell.execute_reply": "2021-04-29T06:27:41.793757Z",
     "shell.execute_reply.started": "2021-04-29T06:27:41.789272Z"
    }
   },
   "outputs": [],
   "source": [
    "def get_class(model, IMAGE_PATH):\n",
    "    img = IMAGE_PATH\n",
    "    img = np.expand_dims(img, axis=0)\n",
    "\n",
    "    predictions = model.predict(img)\n",
    "    y_pred = (predictions > 0.5).astype(np.int)\n",
    "    return predictions, y_pred\n",
    "    print(predictions, y_pred)"
   ]
  },
  {
   "cell_type": "markdown",
   "metadata": {
    "execution": {
     "iopub.execute_input": "2021-04-29T06:34:42.671711Z",
     "iopub.status.busy": "2021-04-29T06:34:42.671406Z",
     "iopub.status.idle": "2021-04-29T06:34:42.674984Z",
     "shell.execute_reply": "2021-04-29T06:34:42.674325Z",
     "shell.execute_reply.started": "2021-04-29T06:34:42.671679Z"
    }
   },
   "source": [
    "### Save grad-cams for test dataset\n",
    "- file_name: id _ label _ sigmoid output _ predicted class"
   ]
  },
  {
   "cell_type": "code",
   "execution_count": 24,
   "metadata": {
    "execution": {
     "iopub.execute_input": "2021-04-29T06:28:08.468060Z",
     "iopub.status.busy": "2021-04-29T06:28:08.467751Z",
     "iopub.status.idle": "2021-04-29T06:29:05.063443Z",
     "shell.execute_reply": "2021-04-29T06:29:05.062242Z",
     "shell.execute_reply.started": "2021-04-29T06:28:08.468029Z"
    }
   },
   "outputs": [
    {
     "ename": "KeyboardInterrupt",
     "evalue": "",
     "output_type": "error",
     "traceback": [
      "\u001b[0;31m---------------------------------------------------------------------------\u001b[0m",
      "\u001b[0;31mKeyboardInterrupt\u001b[0m                         Traceback (most recent call last)",
      "\u001b[0;32m<ipython-input-24-2d353143c33a>\u001b[0m in \u001b[0;36m<module>\u001b[0;34m\u001b[0m\n\u001b[1;32m      1\u001b[0m \u001b[0;32mfor\u001b[0m \u001b[0mi\u001b[0m \u001b[0;32min\u001b[0m \u001b[0mrange\u001b[0m\u001b[0;34m(\u001b[0m\u001b[0mlen\u001b[0m\u001b[0;34m(\u001b[0m\u001b[0mtest_imgs\u001b[0m\u001b[0;34m)\u001b[0m\u001b[0;34m)\u001b[0m\u001b[0;34m:\u001b[0m\u001b[0;34m\u001b[0m\u001b[0;34m\u001b[0m\u001b[0m\n\u001b[1;32m      2\u001b[0m     \u001b[0mpredictions\u001b[0m \u001b[0;34m=\u001b[0m \u001b[0mget_class\u001b[0m\u001b[0;34m(\u001b[0m\u001b[0mmodel\u001b[0m\u001b[0;34m,\u001b[0m \u001b[0mtest_imgs\u001b[0m\u001b[0;34m[\u001b[0m\u001b[0mi\u001b[0m\u001b[0;34m]\u001b[0m\u001b[0;34m)\u001b[0m\u001b[0;34m\u001b[0m\u001b[0;34m\u001b[0m\u001b[0m\n\u001b[0;32m----> 3\u001b[0;31m     \u001b[0moutput_image\u001b[0m \u001b[0;34m=\u001b[0m \u001b[0mget_gradcam\u001b[0m\u001b[0;34m(\u001b[0m\u001b[0mmodel\u001b[0m\u001b[0;34m,\u001b[0m \u001b[0mtest_imgs\u001b[0m\u001b[0;34m[\u001b[0m\u001b[0mi\u001b[0m\u001b[0;34m]\u001b[0m\u001b[0;34m,\u001b[0m \u001b[0;34m'relu'\u001b[0m\u001b[0;34m)\u001b[0m\u001b[0;34m\u001b[0m\u001b[0;34m\u001b[0m\u001b[0m\n\u001b[0m\u001b[1;32m      4\u001b[0m     output_image = cv2.cvtColor(\n\u001b[1;32m      5\u001b[0m         output_image.astype('uint8'), cv2.COLOR_BGR2RGB)\n",
      "\u001b[0;32m<ipython-input-20-8e3017cf99ff>\u001b[0m in \u001b[0;36mget_gradcam\u001b[0;34m(model, IMAGE_PATH, LAYER_NAME)\u001b[0m\n\u001b[1;32m     24\u001b[0m     \u001b[0mcam\u001b[0m \u001b[0;34m=\u001b[0m \u001b[0mnp\u001b[0m\u001b[0;34m.\u001b[0m\u001b[0mones\u001b[0m\u001b[0;34m(\u001b[0m\u001b[0moutput\u001b[0m\u001b[0;34m.\u001b[0m\u001b[0mshape\u001b[0m\u001b[0;34m[\u001b[0m\u001b[0;36m0\u001b[0m\u001b[0;34m:\u001b[0m\u001b[0;36m2\u001b[0m\u001b[0;34m]\u001b[0m\u001b[0;34m,\u001b[0m \u001b[0mdtype\u001b[0m\u001b[0;34m=\u001b[0m\u001b[0mnp\u001b[0m\u001b[0;34m.\u001b[0m\u001b[0mfloat32\u001b[0m\u001b[0;34m)\u001b[0m\u001b[0;34m\u001b[0m\u001b[0;34m\u001b[0m\u001b[0m\n\u001b[1;32m     25\u001b[0m \u001b[0;34m\u001b[0m\u001b[0m\n\u001b[0;32m---> 26\u001b[0;31m     \u001b[0;32mfor\u001b[0m \u001b[0mindex\u001b[0m\u001b[0;34m,\u001b[0m \u001b[0mw\u001b[0m \u001b[0;32min\u001b[0m \u001b[0menumerate\u001b[0m\u001b[0;34m(\u001b[0m\u001b[0mweights\u001b[0m\u001b[0;34m)\u001b[0m\u001b[0;34m:\u001b[0m\u001b[0;34m\u001b[0m\u001b[0;34m\u001b[0m\u001b[0m\n\u001b[0m\u001b[1;32m     27\u001b[0m         \u001b[0mcam\u001b[0m \u001b[0;34m+=\u001b[0m \u001b[0mw\u001b[0m \u001b[0;34m*\u001b[0m \u001b[0moutput\u001b[0m\u001b[0;34m[\u001b[0m\u001b[0;34m:\u001b[0m\u001b[0;34m,\u001b[0m \u001b[0;34m:\u001b[0m\u001b[0;34m,\u001b[0m \u001b[0mindex\u001b[0m\u001b[0;34m]\u001b[0m\u001b[0;34m\u001b[0m\u001b[0;34m\u001b[0m\u001b[0m\n\u001b[1;32m     28\u001b[0m \u001b[0;34m\u001b[0m\u001b[0m\n",
      "\u001b[0;32m/usr/local/lib/python3.6/dist-packages/tensorflow/python/framework/ops.py\u001b[0m in \u001b[0;36m__next__\u001b[0;34m(self)\u001b[0m\n\u001b[1;32m   6928\u001b[0m     \u001b[0;32mif\u001b[0m \u001b[0mself\u001b[0m\u001b[0;34m.\u001b[0m\u001b[0m_index\u001b[0m \u001b[0;34m==\u001b[0m \u001b[0mself\u001b[0m\u001b[0;34m.\u001b[0m\u001b[0m_limit\u001b[0m\u001b[0;34m:\u001b[0m\u001b[0;34m\u001b[0m\u001b[0;34m\u001b[0m\u001b[0m\n\u001b[1;32m   6929\u001b[0m       \u001b[0;32mraise\u001b[0m \u001b[0mStopIteration\u001b[0m\u001b[0;34m\u001b[0m\u001b[0;34m\u001b[0m\u001b[0m\n\u001b[0;32m-> 6930\u001b[0;31m     \u001b[0mresult\u001b[0m \u001b[0;34m=\u001b[0m \u001b[0mself\u001b[0m\u001b[0;34m.\u001b[0m\u001b[0m_tensor\u001b[0m\u001b[0;34m[\u001b[0m\u001b[0mself\u001b[0m\u001b[0;34m.\u001b[0m\u001b[0m_index\u001b[0m\u001b[0;34m]\u001b[0m\u001b[0;34m\u001b[0m\u001b[0;34m\u001b[0m\u001b[0m\n\u001b[0m\u001b[1;32m   6931\u001b[0m     \u001b[0mself\u001b[0m\u001b[0;34m.\u001b[0m\u001b[0m_index\u001b[0m \u001b[0;34m+=\u001b[0m \u001b[0;36m1\u001b[0m\u001b[0;34m\u001b[0m\u001b[0;34m\u001b[0m\u001b[0m\n\u001b[1;32m   6932\u001b[0m     \u001b[0;32mreturn\u001b[0m \u001b[0mresult\u001b[0m\u001b[0;34m\u001b[0m\u001b[0;34m\u001b[0m\u001b[0m\n",
      "\u001b[0;32m/usr/local/lib/python3.6/dist-packages/tensorflow/python/util/dispatch.py\u001b[0m in \u001b[0;36mwrapper\u001b[0;34m(*args, **kwargs)\u001b[0m\n\u001b[1;32m    199\u001b[0m     \u001b[0;34m\"\"\"Call target, and fall back on dispatchers if there is a TypeError.\"\"\"\u001b[0m\u001b[0;34m\u001b[0m\u001b[0;34m\u001b[0m\u001b[0m\n\u001b[1;32m    200\u001b[0m     \u001b[0;32mtry\u001b[0m\u001b[0;34m:\u001b[0m\u001b[0;34m\u001b[0m\u001b[0;34m\u001b[0m\u001b[0m\n\u001b[0;32m--> 201\u001b[0;31m       \u001b[0;32mreturn\u001b[0m \u001b[0mtarget\u001b[0m\u001b[0;34m(\u001b[0m\u001b[0;34m*\u001b[0m\u001b[0margs\u001b[0m\u001b[0;34m,\u001b[0m \u001b[0;34m**\u001b[0m\u001b[0mkwargs\u001b[0m\u001b[0;34m)\u001b[0m\u001b[0;34m\u001b[0m\u001b[0;34m\u001b[0m\u001b[0m\n\u001b[0m\u001b[1;32m    202\u001b[0m     \u001b[0;32mexcept\u001b[0m \u001b[0;34m(\u001b[0m\u001b[0mTypeError\u001b[0m\u001b[0;34m,\u001b[0m \u001b[0mValueError\u001b[0m\u001b[0;34m)\u001b[0m\u001b[0;34m:\u001b[0m\u001b[0;34m\u001b[0m\u001b[0;34m\u001b[0m\u001b[0m\n\u001b[1;32m    203\u001b[0m       \u001b[0;31m# Note: convert_to_eager_tensor currently raises a ValueError, not a\u001b[0m\u001b[0;34m\u001b[0m\u001b[0;34m\u001b[0m\u001b[0;34m\u001b[0m\u001b[0m\n",
      "\u001b[0;32m/usr/local/lib/python3.6/dist-packages/tensorflow/python/ops/array_ops.py\u001b[0m in \u001b[0;36m_slice_helper\u001b[0;34m(tensor, slice_spec, var)\u001b[0m\n\u001b[1;32m   1022\u001b[0m         \u001b[0mellipsis_mask\u001b[0m\u001b[0;34m=\u001b[0m\u001b[0mellipsis_mask\u001b[0m\u001b[0;34m,\u001b[0m\u001b[0;34m\u001b[0m\u001b[0;34m\u001b[0m\u001b[0m\n\u001b[1;32m   1023\u001b[0m         \u001b[0mvar\u001b[0m\u001b[0;34m=\u001b[0m\u001b[0mvar\u001b[0m\u001b[0;34m,\u001b[0m\u001b[0;34m\u001b[0m\u001b[0;34m\u001b[0m\u001b[0m\n\u001b[0;32m-> 1024\u001b[0;31m         name=name)\n\u001b[0m\u001b[1;32m   1025\u001b[0m \u001b[0;34m\u001b[0m\u001b[0m\n\u001b[1;32m   1026\u001b[0m \u001b[0;34m\u001b[0m\u001b[0m\n",
      "\u001b[0;32m/usr/local/lib/python3.6/dist-packages/tensorflow/python/util/dispatch.py\u001b[0m in \u001b[0;36mwrapper\u001b[0;34m(*args, **kwargs)\u001b[0m\n\u001b[1;32m    199\u001b[0m     \u001b[0;34m\"\"\"Call target, and fall back on dispatchers if there is a TypeError.\"\"\"\u001b[0m\u001b[0;34m\u001b[0m\u001b[0;34m\u001b[0m\u001b[0m\n\u001b[1;32m    200\u001b[0m     \u001b[0;32mtry\u001b[0m\u001b[0;34m:\u001b[0m\u001b[0;34m\u001b[0m\u001b[0;34m\u001b[0m\u001b[0m\n\u001b[0;32m--> 201\u001b[0;31m       \u001b[0;32mreturn\u001b[0m \u001b[0mtarget\u001b[0m\u001b[0;34m(\u001b[0m\u001b[0;34m*\u001b[0m\u001b[0margs\u001b[0m\u001b[0;34m,\u001b[0m \u001b[0;34m**\u001b[0m\u001b[0mkwargs\u001b[0m\u001b[0;34m)\u001b[0m\u001b[0;34m\u001b[0m\u001b[0;34m\u001b[0m\u001b[0m\n\u001b[0m\u001b[1;32m    202\u001b[0m     \u001b[0;32mexcept\u001b[0m \u001b[0;34m(\u001b[0m\u001b[0mTypeError\u001b[0m\u001b[0;34m,\u001b[0m \u001b[0mValueError\u001b[0m\u001b[0;34m)\u001b[0m\u001b[0;34m:\u001b[0m\u001b[0;34m\u001b[0m\u001b[0;34m\u001b[0m\u001b[0m\n\u001b[1;32m    203\u001b[0m       \u001b[0;31m# Note: convert_to_eager_tensor currently raises a ValueError, not a\u001b[0m\u001b[0;34m\u001b[0m\u001b[0;34m\u001b[0m\u001b[0;34m\u001b[0m\u001b[0m\n",
      "\u001b[0;32m/usr/local/lib/python3.6/dist-packages/tensorflow/python/ops/array_ops.py\u001b[0m in \u001b[0;36mstrided_slice\u001b[0;34m(input_, begin, end, strides, begin_mask, end_mask, ellipsis_mask, new_axis_mask, shrink_axis_mask, var, name)\u001b[0m\n\u001b[1;32m   1194\u001b[0m       \u001b[0mellipsis_mask\u001b[0m\u001b[0;34m=\u001b[0m\u001b[0mellipsis_mask\u001b[0m\u001b[0;34m,\u001b[0m\u001b[0;34m\u001b[0m\u001b[0;34m\u001b[0m\u001b[0m\n\u001b[1;32m   1195\u001b[0m       \u001b[0mnew_axis_mask\u001b[0m\u001b[0;34m=\u001b[0m\u001b[0mnew_axis_mask\u001b[0m\u001b[0;34m,\u001b[0m\u001b[0;34m\u001b[0m\u001b[0;34m\u001b[0m\u001b[0m\n\u001b[0;32m-> 1196\u001b[0;31m       shrink_axis_mask=shrink_axis_mask)\n\u001b[0m\u001b[1;32m   1197\u001b[0m \u001b[0;34m\u001b[0m\u001b[0m\n\u001b[1;32m   1198\u001b[0m   \u001b[0mparent_name\u001b[0m \u001b[0;34m=\u001b[0m \u001b[0mname\u001b[0m\u001b[0;34m\u001b[0m\u001b[0;34m\u001b[0m\u001b[0m\n",
      "\u001b[0;32m/usr/local/lib/python3.6/dist-packages/tensorflow/python/ops/gen_array_ops.py\u001b[0m in \u001b[0;36mstrided_slice\u001b[0;34m(input, begin, end, strides, begin_mask, end_mask, ellipsis_mask, new_axis_mask, shrink_axis_mask, name)\u001b[0m\n\u001b[1;32m  10315\u001b[0m         \u001b[0mtld\u001b[0m\u001b[0;34m.\u001b[0m\u001b[0mop_callbacks\u001b[0m\u001b[0;34m,\u001b[0m \u001b[0minput\u001b[0m\u001b[0;34m,\u001b[0m \u001b[0mbegin\u001b[0m\u001b[0;34m,\u001b[0m \u001b[0mend\u001b[0m\u001b[0;34m,\u001b[0m \u001b[0mstrides\u001b[0m\u001b[0;34m,\u001b[0m \u001b[0;34m\"begin_mask\"\u001b[0m\u001b[0;34m,\u001b[0m\u001b[0;34m\u001b[0m\u001b[0;34m\u001b[0m\u001b[0m\n\u001b[1;32m  10316\u001b[0m         \u001b[0mbegin_mask\u001b[0m\u001b[0;34m,\u001b[0m \u001b[0;34m\"end_mask\"\u001b[0m\u001b[0;34m,\u001b[0m \u001b[0mend_mask\u001b[0m\u001b[0;34m,\u001b[0m \u001b[0;34m\"ellipsis_mask\"\u001b[0m\u001b[0;34m,\u001b[0m \u001b[0mellipsis_mask\u001b[0m\u001b[0;34m,\u001b[0m\u001b[0;34m\u001b[0m\u001b[0;34m\u001b[0m\u001b[0m\n\u001b[0;32m> 10317\u001b[0;31m         \"new_axis_mask\", new_axis_mask, \"shrink_axis_mask\", shrink_axis_mask)\n\u001b[0m\u001b[1;32m  10318\u001b[0m       \u001b[0;32mreturn\u001b[0m \u001b[0m_result\u001b[0m\u001b[0;34m\u001b[0m\u001b[0;34m\u001b[0m\u001b[0m\n\u001b[1;32m  10319\u001b[0m     \u001b[0;32mexcept\u001b[0m \u001b[0m_core\u001b[0m\u001b[0;34m.\u001b[0m\u001b[0m_NotOkStatusException\u001b[0m \u001b[0;32mas\u001b[0m \u001b[0me\u001b[0m\u001b[0;34m:\u001b[0m\u001b[0;34m\u001b[0m\u001b[0;34m\u001b[0m\u001b[0m\n",
      "\u001b[0;31mKeyboardInterrupt\u001b[0m: "
     ]
    }
   ],
   "source": [
    "for i in range(len(test_imgs)):\n",
    "    predictions = get_class(model, test_imgs[i])\n",
    "    output_image = get_gradcam(model, test_imgs[i], 'relu')\n",
    "    output_image = cv2.cvtColor(\n",
    "        output_image.astype('uint8'), cv2.COLOR_BGR2RGB)\n",
    "    file_name = './gradcam_astrox/' + str(i) + '_' + str(test_label[i]) + '_' + str(\n",
    "        predictions[0]) + '_' + str(predictions[1]) + '.jpg'\n",
    "    cv2.imwrite(file_name, output_image)"
   ]
  },
  {
   "cell_type": "code",
   "execution_count": null,
   "metadata": {},
   "outputs": [],
   "source": []
  },
  {
   "cell_type": "code",
   "execution_count": null,
   "metadata": {},
   "outputs": [],
   "source": []
  }
 ],
 "metadata": {
  "kernelspec": {
   "display_name": "Python 3",
   "language": "python",
   "name": "python3"
  },
  "language_info": {
   "codemirror_mode": {
    "name": "ipython",
    "version": 3
   },
   "file_extension": ".py",
   "mimetype": "text/x-python",
   "name": "python",
   "nbconvert_exporter": "python",
   "pygments_lexer": "ipython3",
   "version": "3.6.9"
  },
  "toc": {
   "base_numbering": 1,
   "nav_menu": {},
   "number_sections": true,
   "sideBar": true,
   "skip_h1_title": false,
   "title_cell": "Table of Contents",
   "title_sidebar": "Contents",
   "toc_cell": false,
   "toc_position": {},
   "toc_section_display": true,
   "toc_window_display": false
  }
 },
 "nbformat": 4,
 "nbformat_minor": 4
}
